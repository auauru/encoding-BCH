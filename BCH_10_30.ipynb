{
  "nbformat": 4,
  "nbformat_minor": 0,
  "metadata": {
    "kernelspec": {
      "display_name": "Python 3",
      "language": "python",
      "name": "python3"
    },
    "language_info": {
      "codemirror_mode": {
        "name": "ipython",
        "version": 3
      },
      "file_extension": ".py",
      "mimetype": "text/x-python",
      "name": "python",
      "nbconvert_exporter": "python",
      "pygments_lexer": "ipython3",
      "version": "3.7.1"
    },
    "colab": {
      "name": "BCH.ipynb",
      "provenance": [],
      "collapsed_sections": []
    }
  },
  "cells": [
    {
      "cell_type": "code",
      "metadata": {
        "id": "3rYn2rUZ7VIK",
        "outputId": "9efd5d94-4cdc-4b0c-e711-ce64a07f6f02",
        "colab": {
          "base_uri": "https://localhost:8080/",
          "height": 34
        }
      },
      "source": [
        "from google.colab import drive\n",
        "drive.mount('/content/gdrive') # 點擊網址，選擇 Google 帳號登入，然後將授權碼貼回輸入框中"
      ],
      "execution_count": 1,
      "outputs": [
        {
          "output_type": "stream",
          "text": [
            "Mounted at /content/gdrive\n"
          ],
          "name": "stdout"
        }
      ]
    },
    {
      "cell_type": "code",
      "metadata": {
        "id": "VJbVBxae_D45",
        "outputId": "7132b01b-5dd6-4246-b8d7-96fa409d5583",
        "colab": {
          "base_uri": "https://localhost:8080/",
          "height": 34
        }
      },
      "source": [
        "!ln -fs /content/gdrive/My\\ Drive/Colab\\ Notebooks/ /app  #執行一次就可，否則會有錯誤訊息\n",
        "%cd /app"
      ],
      "execution_count": 11,
      "outputs": [
        {
          "output_type": "stream",
          "text": [
            "/content/gdrive/My Drive/Colab Notebooks\n"
          ],
          "name": "stdout"
        }
      ]
    },
    {
      "cell_type": "code",
      "metadata": {
        "id": "jewWkBCYcj70"
      },
      "source": [
        "# BCH 63,45,18\n",
        "# BCH_encode(Message)  產生BCH編碼 \n",
        "# BCH_noise(Message)  對 Message 加入高斯雜訊\n",
        "# BCH_abs(Message)   對 Message 取絕對值\n",
        "# BCH_rand(Message,N)  亂數產生N個錯誤\n",
        "\n",
        "import random\n",
        "import math\n",
        "import numpy as np\n",
        "import random\n",
        "from scipy import special\n",
        "\n",
        "C=63\n",
        "M=51\n",
        "P=C-M\n",
        "GX=5433\n",
        "\n",
        "class BCH:\n",
        "  def toArr(_message,_C):\n",
        "    # 陣列轉換\n",
        "    BIN=[]\n",
        "    for i in range(0,_C):\n",
        "      BIN.append((_message>>i)&1)\n",
        "    BIN.reverse()\n",
        "    return BIN\n",
        "\n",
        "  def encode(_message): # BCH編碼， _message 訊息\n",
        "    # 初始化\n",
        "    _message = _message << P\n",
        "    ans = 0\n",
        "    MG = 1\n",
        "    # 編碼\n",
        "    for i in range(C):\n",
        "      if(_message & (1<<i)):\n",
        "        ans = ans ^ MG\n",
        "      MG = MG << 1\n",
        "      if(MG >= 2**P):\n",
        "        MG = MG ^ GX \n",
        "    _message = _message|ans\n",
        "    return BCH.toArr(_message,C)\n",
        "\n",
        "  def sym(_message): # 計算症狀\n",
        "    ans = _message & ((1 << P) - 1)\n",
        "    _GX = GX & ((1 << P) - 1)\n",
        "    for i in range(P,M+P):\n",
        "      if(_message & (1<<i)):\n",
        "        ans = ans ^ _GX\n",
        "      _GX = _GX << 1\n",
        "      if(_GX & 1<<P):\n",
        "        _GX = _GX ^ GX \n",
        "    return BCH.toArr(ans,P)\n",
        "\n",
        "  def noise(_message, _r): # 加入高斯雜訊， _message 訊息 、 _r DB值\n",
        "    BIN=_message\n",
        "    sigma = math.sqrt((10**-(_r/10))/2)\n",
        "    for i in range(len(_message)):\n",
        "      if(BIN[i]==0):\n",
        "        BIN[i]=1.0+float(np.random.normal(0, sigma, 1))\n",
        "      else:\n",
        "        BIN[i]=-1.0+float(np.random.normal(0, sigma, 1))\n",
        "    return BIN\n",
        "\n",
        "  def rand(_message, _value): # 加入雜訊， _message 訊息 、 _value 雜訊數量\n",
        "    data = _message\n",
        "    status = 0;\n",
        "    ans=[]\n",
        "    # print(bin(_message))\n",
        "    for i in range(_value):\n",
        "      bit = int(random.uniform(0,63))\n",
        "      ans.append(bit)\n",
        "      if ((status & (1<<bit)) == 0):\n",
        "        data = data ^ (1<<(bit))\n",
        "        status = status ^ (1<<(bit));\n",
        "    out_data = data\n",
        "    ans.append(out_data)\n",
        "    return ans\n",
        "\n",
        "  def abs(_message): # 取絕對值\n",
        "    BIN=_message\n",
        "    for i in range(len(_message)):\n",
        "      if(BIN[i]<=0):\n",
        "        BIN[i]=1\n",
        "      else:\n",
        "        BIN[i]=0\n",
        "    return BIN\n",
        "\n",
        "  def arr_to_bin(_arr): # 陣列轉數值 \n",
        "    ans=0\n",
        "    for i in range(len(_arr)):\n",
        "      ans = ans | (b[i] << i)\n",
        "    return ans\n",
        "\n",
        "  def Channel(_message,_w): #通道雜訊\n",
        "    Eb = 4\n",
        "    No = 1\n",
        "    a = [0 for _ in range(0,C)]\n",
        "    p = 0.5 - special.erf(math.sqrt(2.0 * Eb / No) / math.sqrt(2.0)) / 2\n",
        "    BIN = []\n",
        "    Y = []\n",
        "    for i in range(0,C):\n",
        "      BIN.append((_message >> i) & 1)\n",
        "    BIN.reverse()\n",
        "    while (_w > 0):\n",
        "      n = int(random.uniform(0,C))\n",
        "      if (a[n] == 0):\n",
        "        a[n] = 1\n",
        "        _w = _w - 1\n",
        "    for i in range(0,C):\n",
        "      U = random.random()\n",
        "      F = p + (1 - p) * U\n",
        "      if (a[i] == 1):\n",
        "        F = p * U\n",
        "      y = math.sqrt(Eb) + math.sqrt(No) * special.erfinv(2 * F - 1)\n",
        "      if (BIN[i] == 1):\n",
        "        Y.append(-y)\n",
        "      else:\n",
        "        Y.append(y)\n",
        "    return Y,a\n"
      ],
      "execution_count": 7,
      "outputs": []
    },
    {
      "cell_type": "code",
      "metadata": {
        "id": "BYuun0LgQoKS"
      },
      "source": [
        "y=[]\n",
        "t=[]\n",
        "for i in range(50000):\n",
        "  a,b=BCH.Channel(0,2)\n",
        "  ans=BCH.sym(BCH.arr_to_bin(a))\n",
        "  for i in range(len(ans)):\n",
        "    a.append(ans[i])\n",
        "  y.append(a)\n",
        "  t.append(b)"
      ],
      "execution_count": 8,
      "outputs": []
    },
    {
      "cell_type": "code",
      "metadata": {
        "id": "ekL9d3n6_H_p"
      },
      "source": [
        "f = open('Training_one_to_50000.txt','w')\n",
        "for i in range(len(y)):\n",
        "  for j in range(len(y[i])):\n",
        "    if (j != len(y[j])-1):\n",
        "      f.write(str(y[i][j])+',')\n",
        "    else :\n",
        "      f.write(str(y[i][j]))\n",
        "  f.write('\\n')\n",
        "f.close()"
      ],
      "execution_count": 23,
      "outputs": []
    },
    {
      "cell_type": "code",
      "metadata": {
        "id": "ONlAVrHBBTz4"
      },
      "source": [
        "f = open('Validation_one_to_50000.txt','w')\n",
        "for i in range(len(t)):\n",
        "  for j in range(len(t[i])):\n",
        "    if (j != len(t[j])-1):\n",
        "      f.write(str(t[i][j])+',')\n",
        "    else :\n",
        "      f.write(str(t[i][j]))\n",
        "  f.write('\\n')\n",
        "f.close()"
      ],
      "execution_count": 24,
      "outputs": []
    },
    {
      "cell_type": "code",
      "metadata": {
        "id": "rw78o1pFe6Cg"
      },
      "source": [
        ""
      ],
      "execution_count": null,
      "outputs": []
    }
  ]
}